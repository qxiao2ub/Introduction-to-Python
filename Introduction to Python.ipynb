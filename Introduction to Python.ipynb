{
  "nbformat": 4,
  "nbformat_minor": 0,
  "metadata": {
    "colab": {
      "provenance": []
    },
    "kernelspec": {
      "name": "python3",
      "display_name": "Python 3"
    },
    "language_info": {
      "name": "python"
    }
  },
  "cells": [
    {
      "cell_type": "markdown",
      "source": [
        "#Example 1:\n",
        "For our first example we will create the ubiquitous \"Hello World\" program.\n",
        "\n",
        "Start by opending our favorite plaint text editor. Then, type the contents of the code below into you empty text file. Finally, save this file as exmaple_1.py. Make sure you take note of where this file is saved."
      ],
      "metadata": {
        "id": "q-8z9ZtzImb7"
      }
    },
    {
      "cell_type": "code",
      "execution_count": 9,
      "metadata": {
        "colab": {
          "base_uri": "https://localhost:8080/"
        },
        "id": "TTG5s8edIeew",
        "outputId": "0164947b-5ae7-4ca6-ef80-cddb08a65f22"
      },
      "outputs": [
        {
          "output_type": "stream",
          "name": "stdout",
          "text": [
            "Hello World!\n"
          ]
        }
      ],
      "source": [
        "# File: example_1.py\n",
        "# This is our first Python script. It shows some basic Python features.\n",
        "# How to run:\n",
        "# 1) Open a terminal/command window.\n",
        "# 2) Change directories to the location where this file is saved.\n",
        "# 3) Type the following command at the prompt:\n",
        "# Python example_1.py\n",
        "print ('Hello World!')"
      ]
    },
    {
      "cell_type": "code",
      "source": [
        "# create a dictionary of dictionaries\n",
        "# start with an empty dictionary:\n",
        "contactInfo = {}\n",
        "\n",
        "# Our contactInfo dictionary has a key of 'John'. That dictionary also contains\n",
        "# a dictionary with other keys ('phone','age', ect.).\n",
        "\n",
        "contactInfo['John'] = { 'phone': '555-1212', 'age': 57, 'job': 'rocket scientist', 'home':[5,27]}\n",
        "\n",
        "# Let's see what we have for now:\n",
        "print (contactInfo['John'])"
      ],
      "metadata": {
        "colab": {
          "base_uri": "https://localhost:8080/"
        },
        "id": "M7_fDNMWLB3C",
        "outputId": "f8699e60-3da7-4cec-c98d-dba8fd2313a0"
      },
      "execution_count": 10,
      "outputs": [
        {
          "output_type": "stream",
          "name": "stdout",
          "text": [
            "{'phone': '555-1212', 'age': 57, 'job': 'rocket scientist', 'home': [5, 27]}\n"
          ]
        }
      ]
    },
    {
      "cell_type": "code",
      "source": [
        "# To make things a little more interesting, let's add a second user:\n",
        "contactInfo['Mary'] = {'phone':'444-5555', 'age': 42, 'job':'brain surgeon', 'home':[17,8]}\n",
        "\n",
        "# Let's print out some individual values from our dictionary:\n",
        "\n",
        "print(contactInfo['John']['phone'])\n",
        "print(contactInfo['Mary']['home'])"
      ],
      "metadata": {
        "colab": {
          "base_uri": "https://localhost:8080/"
        },
        "id": "y2hUigCpMJ6q",
        "outputId": "b04d3b34-9a12-49cd-c27b-f9ec2d51ab1c"
      },
      "execution_count": 11,
      "outputs": [
        {
          "output_type": "stream",
          "name": "stdout",
          "text": [
            "555-1212\n",
            "[17, 8]\n"
          ]
        }
      ]
    },
    {
      "cell_type": "code",
      "source": [
        "print(contactInfo['Mary']['home'][0])\n",
        "print(contactInfo['Mary']['home'][1])"
      ],
      "metadata": {
        "colab": {
          "base_uri": "https://localhost:8080/"
        },
        "id": "_kA_IeixNlup",
        "outputId": "40ccb64e-64b1-4683-a81e-6e813d687a65"
      },
      "execution_count": 12,
      "outputs": [
        {
          "output_type": "stream",
          "name": "stdout",
          "text": [
            "17\n",
            "8\n"
          ]
        }
      ]
    },
    {
      "cell_type": "code",
      "source": [
        "# Now, let's make use of one of our command line inputs. Specifaically, we want to see if the name provided in the command line is in our records.\n",
        "# If it is, we will print msome information about that person.\n",
        "# If it is not in our dictionary, we will print an error message.\n",
        "\n",
        "inputName = \"John\"\n",
        "\n",
        "if (inputName in contactInfo):\n",
        "    print(\"Here is some information about %s:\" % (inputName))\n",
        "    print(\"\\tPhone Number: %s\" % (contactInfo[inputName]['phone']))\n",
        "    print(\"\\tAge: %d\" % (contactInfo[inputName]['age']))\n",
        "    print(\"\\tOccupation: %s\" % (contactInfo[inputName]['job']))\n",
        "    print(\"\\tHome Location: x = %.2f, y=%f\" % (contactInfo[inputName]['home'][0], contactInfo[inputName]['home'][1]))\n",
        "else:\n",
        "    print(\"Sorry,\" , inputName, \"(case senstive) is not in our records. Thank you.\")\n",
        "    quit()"
      ],
      "metadata": {
        "colab": {
          "base_uri": "https://localhost:8080/"
        },
        "id": "X0jLyQZlOMZJ",
        "outputId": "a98be710-0dbd-4753-a1aa-8867daa85611"
      },
      "execution_count": 13,
      "outputs": [
        {
          "output_type": "stream",
          "name": "stdout",
          "text": [
            "Here is some information about John:\n",
            "\tPhone Number: 555-1212\n",
            "\tAge: 57\n",
            "\tOccupation: rocket scientist\n",
            "\tHome Location: x = 5.00, y=27.000000\n"
          ]
        }
      ]
    },
    {
      "cell_type": "markdown",
      "source": [
        "# Example 3\n",
        "This example builds on Example 2 to add \"functions.\"\n",
        "\n",
        "Let's start by coping example_2 to example_3."
      ],
      "metadata": {
        "id": "EqgtHSguR7Vw"
      }
    },
    {
      "cell_type": "code",
      "source": [
        "#capture 2 inputs from the command line.\n",
        "# create an empty dictionary:\n",
        "myLocations = {}\n",
        "\n",
        "# Fro each lopcationID, store the x and y coordinates:\n",
        "myLocations[101]=[4, 11]\n",
        "myLocations[102]= [6, 21]\n",
        "myLocations[113] = [2, 13]\n",
        "myLocations[237] = [8, 42]"
      ],
      "metadata": {
        "id": "OYNYOhYtSSpo"
      },
      "execution_count": 14,
      "outputs": []
    },
    {
      "cell_type": "markdown",
      "source": [
        "Now, we want to fin dthe distance between our person's home and each of these new locations. Fro now, suppose we have a tool that will tell us the distance according to the Manhattan metric (like walking on streets in NYC.) This tool requires four pieces of information:\n",
        "\n",
        "1. The x-coordinate of the home location,\n",
        "2. The y-coordinate of the home location,\n",
        "3. The x-coordinate of the destination, and\n",
        "4. The y-coordinate of the destination."
      ],
      "metadata": {
        "id": "Jd0rEUq7TbDw"
      }
    },
    {
      "cell_type": "code",
      "source": [],
      "metadata": {
        "id": "z9-ruAHyR6DJ"
      },
      "execution_count": null,
      "outputs": []
    },
    {
      "cell_type": "markdown",
      "source": [],
      "metadata": {
        "id": "zkXkcOMNNllR"
      }
    },
    {
      "cell_type": "markdown",
      "source": [],
      "metadata": {
        "id": "bGZVeeheNlh6"
      }
    },
    {
      "cell_type": "markdown",
      "source": [],
      "metadata": {
        "id": "_KsEStwlNC4D"
      }
    },
    {
      "cell_type": "markdown",
      "source": [],
      "metadata": {
        "id": "cNcxu_wLNCgj"
      }
    }
  ]
}